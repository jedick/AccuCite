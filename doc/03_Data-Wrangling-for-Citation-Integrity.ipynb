{
 "cells": [
  {
   "cell_type": "markdown",
   "id": "1a2aa6b5-8253-48f1-bb6e-c20ade5eb851",
   "metadata": {},
   "source": [
    "# Data Wrangling for Citation-Integrity\n",
    "\n",
    "Written by Jeffrey Dick, 2024-12-14\n",
    "\n",
    "This notebook wrangles data from the **Citation-Integrity** dataset.\n",
    "The purpose of the data wrangling is to identify and deal with:\n",
    "- duplicated examples\n",
    "- missing information\n",
    "- outliers (e.g. very short claims)\n",
    "\n",
    "Here are the main tasks:\n",
    "\n",
    "- Summary statistics are calculated for each column in the dataset.\n",
    "- Each fold (train, dev, test) is treated individually, then they are combined.\n",
    "- Furthermore, the `claim` and `evidence` columns are processed to get word counts and labels.\n",
    "- Separately from the claims, we read the `corpus.jsonl` file to get the abstracts and check that `cited_doc_ids` in the claims have matching abstracts.\n",
    "- *A separate notebook* will be created for exploratory data analysis of the abstracts.\n",
    "\n",
    "NOTE: The dataset follows the schema used by **SciFact** [(schema information)](https://github.com/allenai/scifact/blob/master/doc/data.md).\n",
    "For consistency with terminology used in **SciFact**, the evidence sentences are referred to as the *abstract*.\n",
    "In **Citation-Integrity**, this is not the actual abstract of a cited paper, but instead the set of evidence sentences identified by human annotators.\n",
    "\n",
    "First we define a function to read a given fold of the dataset."
   ]
  },
  {
   "cell_type": "code",
   "execution_count": 1,
   "id": "3b1d062b-91e9-470a-b338-912304a65e07",
   "metadata": {},
   "outputs": [],
   "source": [
    "import pandas as pd\n",
    "\n",
    "def read_citint(fold):\n",
    "    \"\"\"\n",
    "    Reads Citation-Integrity dataset of the given fold\n",
    "    (train, dev, test).\n",
    "    Returns a DataFrame\n",
    "    \"\"\"\n",
    "    file = f'../data/citint/claims_{fold}.jsonl'\n",
    "    try:\n",
    "        df = pd.read_json(file, lines=True)\n",
    "    except:\n",
    "        print(f'Error attempting to read file {file}')\n",
    "        return None\n",
    "    # Print range of claim IDs\n",
    "    print('Range of claim IDs for '+fold+' is '+str(df['id'].min())+'..'+str(df['id'].max()))\n",
    "    # Prepend a 'fold' column with the name of the fold\n",
    "    df.insert(0, 'fold', fold)\n",
    "    df['fold'] = df['fold'].astype('category')\n",
    "    return df\n"
   ]
  },
  {
   "cell_type": "markdown",
   "id": "6724b2b9-0f1a-487f-8fb3-b40b874f4f30",
   "metadata": {},
   "source": [
    "## Summary statistics for each fold\n",
    "\n",
    "Start by getting DataFrames for each fold.\n",
    "The ranges of claim IDs are also printed."
   ]
  },
  {
   "cell_type": "code",
   "execution_count": 2,
   "id": "cac0402b-d714-4e2b-b204-b08571c1a05c",
   "metadata": {},
   "outputs": [
    {
     "name": "stdout",
     "output_type": "stream",
     "text": [
      "Range of claim IDs for train is 0..2141\n",
      "Range of claim IDs for dev is 0..316\n",
      "Range of claim IDs for test is 0..605\n"
     ]
    }
   ],
   "source": [
    "train = read_citint('train')\n",
    "dev = read_citint('dev')\n",
    "test = read_citint('test')"
   ]
  },
  {
   "cell_type": "markdown",
   "id": "e8df454e-7182-4f1a-99c1-5786e0938e0b",
   "metadata": {},
   "source": [
    "Next, change the type of the `id` column from int to str in order to count unique values.\n",
    "Then summarize the data for the train, dev, and test folds.\n",
    "Exclude category dtype which is used for the `fold` column."
   ]
  },
  {
   "cell_type": "code",
   "execution_count": 3,
   "id": "2f766a5e-7bdd-4e2c-aab0-d1d60fffb3ae",
   "metadata": {},
   "outputs": [
    {
     "data": {
      "text/html": [
       "<div>\n",
       "<style scoped>\n",
       "    .dataframe tbody tr th:only-of-type {\n",
       "        vertical-align: middle;\n",
       "    }\n",
       "\n",
       "    .dataframe tbody tr th {\n",
       "        vertical-align: top;\n",
       "    }\n",
       "\n",
       "    .dataframe thead th {\n",
       "        text-align: right;\n",
       "    }\n",
       "</style>\n",
       "<table border=\"1\" class=\"dataframe\">\n",
       "  <thead>\n",
       "    <tr style=\"text-align: right;\">\n",
       "      <th></th>\n",
       "      <th>id</th>\n",
       "      <th>claim</th>\n",
       "      <th>evidence</th>\n",
       "      <th>cited_doc_ids</th>\n",
       "    </tr>\n",
       "  </thead>\n",
       "  <tbody>\n",
       "    <tr>\n",
       "      <th>count</th>\n",
       "      <td>2138</td>\n",
       "      <td>2138</td>\n",
       "      <td>2138</td>\n",
       "      <td>2138</td>\n",
       "    </tr>\n",
       "    <tr>\n",
       "      <th>unique</th>\n",
       "      <td>2138</td>\n",
       "      <td>2136</td>\n",
       "      <td>1996</td>\n",
       "      <td>2138</td>\n",
       "    </tr>\n",
       "    <tr>\n",
       "      <th>top</th>\n",
       "      <td>2137</td>\n",
       "      <td>SARS-CoV-2 pseudoviruses were generated essent...</td>\n",
       "      <td>{}</td>\n",
       "      <td>[18066]</td>\n",
       "    </tr>\n",
       "    <tr>\n",
       "      <th>freq</th>\n",
       "      <td>1</td>\n",
       "      <td>2</td>\n",
       "      <td>143</td>\n",
       "      <td>1</td>\n",
       "    </tr>\n",
       "  </tbody>\n",
       "</table>\n",
       "</div>"
      ],
      "text/plain": [
       "          id                                              claim evidence  \\\n",
       "count   2138                                               2138     2138   \n",
       "unique  2138                                               2136     1996   \n",
       "top     2137  SARS-CoV-2 pseudoviruses were generated essent...       {}   \n",
       "freq       1                                                  2      143   \n",
       "\n",
       "       cited_doc_ids  \n",
       "count           2138  \n",
       "unique          2138  \n",
       "top          [18066]  \n",
       "freq               1  "
      ]
     },
     "execution_count": 3,
     "metadata": {},
     "output_type": "execute_result"
    }
   ],
   "source": [
    "train['id'] = train['id'].astype('str')\n",
    "train.describe(exclude='category')"
   ]
  },
  {
   "cell_type": "code",
   "execution_count": 4,
   "id": "6c57eb3c-7342-4683-9eb0-05bce3d766d1",
   "metadata": {},
   "outputs": [
    {
     "data": {
      "text/html": [
       "<div>\n",
       "<style scoped>\n",
       "    .dataframe tbody tr th:only-of-type {\n",
       "        vertical-align: middle;\n",
       "    }\n",
       "\n",
       "    .dataframe tbody tr th {\n",
       "        vertical-align: top;\n",
       "    }\n",
       "\n",
       "    .dataframe thead th {\n",
       "        text-align: right;\n",
       "    }\n",
       "</style>\n",
       "<table border=\"1\" class=\"dataframe\">\n",
       "  <thead>\n",
       "    <tr style=\"text-align: right;\">\n",
       "      <th></th>\n",
       "      <th>id</th>\n",
       "      <th>claim</th>\n",
       "      <th>evidence</th>\n",
       "      <th>cited_doc_ids</th>\n",
       "    </tr>\n",
       "  </thead>\n",
       "  <tbody>\n",
       "    <tr>\n",
       "      <th>count</th>\n",
       "      <td>316</td>\n",
       "      <td>316</td>\n",
       "      <td>316</td>\n",
       "      <td>316</td>\n",
       "    </tr>\n",
       "    <tr>\n",
       "      <th>unique</th>\n",
       "      <td>316</td>\n",
       "      <td>316</td>\n",
       "      <td>293</td>\n",
       "      <td>316</td>\n",
       "    </tr>\n",
       "    <tr>\n",
       "      <th>top</th>\n",
       "      <td>315</td>\n",
       "      <td>Closing this testing gap through increased acc...</td>\n",
       "      <td>{}</td>\n",
       "      <td>[39022]</td>\n",
       "    </tr>\n",
       "    <tr>\n",
       "      <th>freq</th>\n",
       "      <td>1</td>\n",
       "      <td>1</td>\n",
       "      <td>24</td>\n",
       "      <td>1</td>\n",
       "    </tr>\n",
       "  </tbody>\n",
       "</table>\n",
       "</div>"
      ],
      "text/plain": [
       "         id                                              claim evidence  \\\n",
       "count   316                                                316      316   \n",
       "unique  316                                                316      293   \n",
       "top     315  Closing this testing gap through increased acc...       {}   \n",
       "freq      1                                                  1       24   \n",
       "\n",
       "       cited_doc_ids  \n",
       "count            316  \n",
       "unique           316  \n",
       "top          [39022]  \n",
       "freq               1  "
      ]
     },
     "execution_count": 4,
     "metadata": {},
     "output_type": "execute_result"
    }
   ],
   "source": [
    "dev['id'] = dev['id'].astype('str')\n",
    "dev.describe(exclude='category')"
   ]
  },
  {
   "cell_type": "code",
   "execution_count": 5,
   "id": "71cf0b32-a5bb-439e-ade4-2ad5ddc8498d",
   "metadata": {},
   "outputs": [
    {
     "data": {
      "text/html": [
       "<div>\n",
       "<style scoped>\n",
       "    .dataframe tbody tr th:only-of-type {\n",
       "        vertical-align: middle;\n",
       "    }\n",
       "\n",
       "    .dataframe tbody tr th {\n",
       "        vertical-align: top;\n",
       "    }\n",
       "\n",
       "    .dataframe thead th {\n",
       "        text-align: right;\n",
       "    }\n",
       "</style>\n",
       "<table border=\"1\" class=\"dataframe\">\n",
       "  <thead>\n",
       "    <tr style=\"text-align: right;\">\n",
       "      <th></th>\n",
       "      <th>id</th>\n",
       "      <th>claim</th>\n",
       "      <th>evidence</th>\n",
       "      <th>cited_doc_ids</th>\n",
       "    </tr>\n",
       "  </thead>\n",
       "  <tbody>\n",
       "    <tr>\n",
       "      <th>count</th>\n",
       "      <td>606</td>\n",
       "      <td>606</td>\n",
       "      <td>606</td>\n",
       "      <td>606</td>\n",
       "    </tr>\n",
       "    <tr>\n",
       "      <th>unique</th>\n",
       "      <td>606</td>\n",
       "      <td>606</td>\n",
       "      <td>557</td>\n",
       "      <td>606</td>\n",
       "    </tr>\n",
       "    <tr>\n",
       "      <th>top</th>\n",
       "      <td>603</td>\n",
       "      <td>This finding confirms the delayed sleep schedu...</td>\n",
       "      <td>{}</td>\n",
       "      <td>[33034]</td>\n",
       "    </tr>\n",
       "    <tr>\n",
       "      <th>freq</th>\n",
       "      <td>1</td>\n",
       "      <td>1</td>\n",
       "      <td>50</td>\n",
       "      <td>1</td>\n",
       "    </tr>\n",
       "  </tbody>\n",
       "</table>\n",
       "</div>"
      ],
      "text/plain": [
       "         id                                              claim evidence  \\\n",
       "count   606                                                606      606   \n",
       "unique  606                                                606      557   \n",
       "top     603  This finding confirms the delayed sleep schedu...       {}   \n",
       "freq      1                                                  1       50   \n",
       "\n",
       "       cited_doc_ids  \n",
       "count            606  \n",
       "unique           606  \n",
       "top          [33034]  \n",
       "freq               1  "
      ]
     },
     "execution_count": 5,
     "metadata": {},
     "output_type": "execute_result"
    }
   ],
   "source": [
    "test['id'] = test['id'].astype('str')\n",
    "test.describe(exclude='category')"
   ]
  },
  {
   "cell_type": "markdown",
   "id": "a8f7df00-bf3a-4c40-ab00-d21af262be8f",
   "metadata": {},
   "source": [
    "**Results**\n",
    "- The claim IDs start at 0 and are unique in each fold.\n",
    "- For the train and dev folds a few claim IDs are unused.\n",
    "- There is one duplicated claim in the train set; no claims are duplicated in the other folds.\n",
    "- Each fold has a certain number of empty evidence statements (`{}`).\n",
    "- The remaining evidence statements are unique (i.e. count - unique - freq + 1 = 0).\n",
    "- Cited doc IDs are unique in each fold.\n",
    "\n",
    "**Action**\n",
    "- Unused claim IDs in the train and test folds may indicate claims that were later removed by the curators and require no further action.\n",
    "- The duplicated claim in the train fold should be considered for dropping.\n",
    "- Empty evidence statements can be classified as `NEI` (not enough information).\n",
    "    - However, we should be aware of claims that might have an explicit `NEI` label."
   ]
  },
  {
   "cell_type": "markdown",
   "id": "cc613b9a-f77c-4fe7-8b5c-bc15a4161bbc",
   "metadata": {},
   "source": [
    "## Summary statistics for the combined dataset"
   ]
  },
  {
   "cell_type": "code",
   "execution_count": 6,
   "id": "f34450ff-6733-436e-8ab6-d955d40e2c33",
   "metadata": {},
   "outputs": [
    {
     "data": {
      "text/html": [
       "<div>\n",
       "<style scoped>\n",
       "    .dataframe tbody tr th:only-of-type {\n",
       "        vertical-align: middle;\n",
       "    }\n",
       "\n",
       "    .dataframe tbody tr th {\n",
       "        vertical-align: top;\n",
       "    }\n",
       "\n",
       "    .dataframe thead th {\n",
       "        text-align: right;\n",
       "    }\n",
       "</style>\n",
       "<table border=\"1\" class=\"dataframe\">\n",
       "  <thead>\n",
       "    <tr style=\"text-align: right;\">\n",
       "      <th></th>\n",
       "      <th>fold</th>\n",
       "      <th>id</th>\n",
       "      <th>claim</th>\n",
       "      <th>evidence</th>\n",
       "      <th>cited_doc_ids</th>\n",
       "    </tr>\n",
       "  </thead>\n",
       "  <tbody>\n",
       "    <tr>\n",
       "      <th>count</th>\n",
       "      <td>3060</td>\n",
       "      <td>3060</td>\n",
       "      <td>3060</td>\n",
       "      <td>3060</td>\n",
       "      <td>3060</td>\n",
       "    </tr>\n",
       "    <tr>\n",
       "      <th>unique</th>\n",
       "      <td>3</td>\n",
       "      <td>2138</td>\n",
       "      <td>3056</td>\n",
       "      <td>2844</td>\n",
       "      <td>3060</td>\n",
       "    </tr>\n",
       "    <tr>\n",
       "      <th>top</th>\n",
       "      <td>train</td>\n",
       "      <td>277</td>\n",
       "      <td>In particular, the expansion of neutralizing a...</td>\n",
       "      <td>{}</td>\n",
       "      <td>[33034]</td>\n",
       "    </tr>\n",
       "    <tr>\n",
       "      <th>freq</th>\n",
       "      <td>2138</td>\n",
       "      <td>3</td>\n",
       "      <td>2</td>\n",
       "      <td>217</td>\n",
       "      <td>1</td>\n",
       "    </tr>\n",
       "  </tbody>\n",
       "</table>\n",
       "</div>"
      ],
      "text/plain": [
       "         fold    id                                              claim  \\\n",
       "count    3060  3060                                               3060   \n",
       "unique      3  2138                                               3056   \n",
       "top     train   277  In particular, the expansion of neutralizing a...   \n",
       "freq     2138     3                                                  2   \n",
       "\n",
       "       evidence cited_doc_ids  \n",
       "count      3060          3060  \n",
       "unique     2844          3060  \n",
       "top          {}       [33034]  \n",
       "freq        217             1  "
      ]
     },
     "execution_count": 6,
     "metadata": {},
     "output_type": "execute_result"
    }
   ],
   "source": [
    "citint = pd.concat([train, dev, test], ignore_index=True)\n",
    "citint.describe()"
   ]
  },
  {
   "cell_type": "markdown",
   "id": "b0f7e453-1481-4e5b-a614-69aa40a1107d",
   "metadata": {},
   "source": [
    "**Results**\n",
    "- There are two duplicated claims (3060 - 3056 = 4; the most frequent duplicate occurs twice, so the other also occurs twice).\n",
    "- There are no duplicated evidence statements (3060 - 2844 - 217 + 1 = 0).\n",
    "- There are no duplicated cited doc IDs.\n",
    "\n",
    "**Action**\n",
    "- The duplicated claims should be investigated and possibly removed.\n",
    "    - The cited doc IDs are all unique, so the duplicated claims might actually be unique examples with identical text by chance."
   ]
  },
  {
   "cell_type": "markdown",
   "id": "610512bf-dc60-4069-94e0-e9623959f885",
   "metadata": {},
   "source": [
    "## Number of words in claims\n",
    "\n",
    "This code calculates the number of words of the claims by splitting on spaces and getting the length of the word list.\n",
    "Then we calculate summary statistics: mean, min, and max number of words for each fold."
   ]
  },
  {
   "cell_type": "code",
   "execution_count": 7,
   "id": "678f5377-da2f-4adc-b743-d08bb8a24932",
   "metadata": {},
   "outputs": [
    {
     "data": {
      "text/html": [
       "<div>\n",
       "<style scoped>\n",
       "    .dataframe tbody tr th:only-of-type {\n",
       "        vertical-align: middle;\n",
       "    }\n",
       "\n",
       "    .dataframe tbody tr th {\n",
       "        vertical-align: top;\n",
       "    }\n",
       "\n",
       "    .dataframe thead th {\n",
       "        text-align: right;\n",
       "    }\n",
       "</style>\n",
       "<table border=\"1\" class=\"dataframe\">\n",
       "  <thead>\n",
       "    <tr style=\"text-align: right;\">\n",
       "      <th></th>\n",
       "      <th>median</th>\n",
       "      <th>min</th>\n",
       "      <th>max</th>\n",
       "    </tr>\n",
       "    <tr>\n",
       "      <th>fold</th>\n",
       "      <th></th>\n",
       "      <th></th>\n",
       "      <th></th>\n",
       "    </tr>\n",
       "  </thead>\n",
       "  <tbody>\n",
       "    <tr>\n",
       "      <th>dev</th>\n",
       "      <td>31.0</td>\n",
       "      <td>3</td>\n",
       "      <td>142</td>\n",
       "    </tr>\n",
       "    <tr>\n",
       "      <th>test</th>\n",
       "      <td>29.0</td>\n",
       "      <td>5</td>\n",
       "      <td>260</td>\n",
       "    </tr>\n",
       "    <tr>\n",
       "      <th>train</th>\n",
       "      <td>30.0</td>\n",
       "      <td>4</td>\n",
       "      <td>606</td>\n",
       "    </tr>\n",
       "  </tbody>\n",
       "</table>\n",
       "</div>"
      ],
      "text/plain": [
       "       median  min  max\n",
       "fold                   \n",
       "dev      31.0    3  142\n",
       "test     29.0    5  260\n",
       "train    30.0    4  606"
      ]
     },
     "execution_count": 7,
     "metadata": {},
     "output_type": "execute_result"
    }
   ],
   "source": [
    "citint['claim_length'] = citint['claim'].apply(lambda x: len(str(x).split(' ')))\n",
    "citint.groupby('fold')['claim_length'].agg(['median', 'min', 'max'])"
   ]
  },
  {
   "cell_type": "markdown",
   "id": "ff6d0d07-6bed-4d94-91fb-23dbf7d2ac4f",
   "metadata": {},
   "source": [
    "Let's look at some of the very short claims."
   ]
  },
  {
   "cell_type": "code",
   "execution_count": 8,
   "id": "651bf4dc-577b-4cb1-8184-0245aa6f1c90",
   "metadata": {},
   "outputs": [
    {
     "data": {
      "text/html": [
       "<div>\n",
       "<style scoped>\n",
       "    .dataframe tbody tr th:only-of-type {\n",
       "        vertical-align: middle;\n",
       "    }\n",
       "\n",
       "    .dataframe tbody tr th {\n",
       "        vertical-align: top;\n",
       "    }\n",
       "\n",
       "    .dataframe thead th {\n",
       "        text-align: right;\n",
       "    }\n",
       "</style>\n",
       "<table border=\"1\" class=\"dataframe\">\n",
       "  <thead>\n",
       "    <tr style=\"text-align: right;\">\n",
       "      <th></th>\n",
       "      <th>fold</th>\n",
       "      <th>id</th>\n",
       "      <th>claim</th>\n",
       "      <th>evidence</th>\n",
       "      <th>cited_doc_ids</th>\n",
       "      <th>claim_length</th>\n",
       "    </tr>\n",
       "  </thead>\n",
       "  <tbody>\n",
       "    <tr>\n",
       "      <th>611</th>\n",
       "      <td>train</td>\n",
       "      <td>772</td>\n",
       "      <td>2012; 380: 1491–7) [&lt;|cit|&gt;••]</td>\n",
       "      <td>{'73020': [{'sentences': [0], 'label': 'ACCURA...</td>\n",
       "      <td>[73020]</td>\n",
       "      <td>4</td>\n",
       "    </tr>\n",
       "    <tr>\n",
       "      <th>1146</th>\n",
       "      <td>train</td>\n",
       "      <td>1443</td>\n",
       "      <td>Chen et al. [&lt;|cit|&gt;].</td>\n",
       "      <td>{'63000': [{'sentences': [0], 'label': 'NOT_AC...</td>\n",
       "      <td>[63000]</td>\n",
       "      <td>4</td>\n",
       "    </tr>\n",
       "    <tr>\n",
       "      <th>1671</th>\n",
       "      <td>train</td>\n",
       "      <td>2110</td>\n",
       "      <td>isolates in hACE2 transgenic mice&lt;|cit|&gt;.</td>\n",
       "      <td>{'18028': [{'sentences': [0], 'label': 'ACCURA...</td>\n",
       "      <td>[18028]</td>\n",
       "      <td>5</td>\n",
       "    </tr>\n",
       "    <tr>\n",
       "      <th>2253</th>\n",
       "      <td>dev</td>\n",
       "      <td>140</td>\n",
       "      <td>Kim et al[&lt;|cit|&gt;] are positive.</td>\n",
       "      <td>{'40013': [{'sentences': [0], 'label': 'ACCURA...</td>\n",
       "      <td>[40013]</td>\n",
       "      <td>5</td>\n",
       "    </tr>\n",
       "    <tr>\n",
       "      <th>2372</th>\n",
       "      <td>dev</td>\n",
       "      <td>282</td>\n",
       "      <td>Notably, in [&lt;|cit|&gt;].</td>\n",
       "      <td>{'27017': [{'sentences': [0], 'label': 'NOT_AC...</td>\n",
       "      <td>[27017]</td>\n",
       "      <td>3</td>\n",
       "    </tr>\n",
       "    <tr>\n",
       "      <th>2764</th>\n",
       "      <td>test</td>\n",
       "      <td>378</td>\n",
       "      <td>These are unprecedent times (&lt;|multi_cit|&gt;).</td>\n",
       "      <td>{'25015': [{'sentences': [0], 'label': 'ACCURA...</td>\n",
       "      <td>[25015]</td>\n",
       "      <td>5</td>\n",
       "    </tr>\n",
       "  </tbody>\n",
       "</table>\n",
       "</div>"
      ],
      "text/plain": [
       "       fold    id                                         claim  \\\n",
       "611   train   772                2012; 380: 1491–7) [<|cit|>••]   \n",
       "1146  train  1443                        Chen et al. [<|cit|>].   \n",
       "1671  train  2110     isolates in hACE2 transgenic mice<|cit|>.   \n",
       "2253    dev   140              Kim et al[<|cit|>] are positive.   \n",
       "2372    dev   282                        Notably, in [<|cit|>].   \n",
       "2764   test   378  These are unprecedent times (<|multi_cit|>).   \n",
       "\n",
       "                                               evidence cited_doc_ids  \\\n",
       "611   {'73020': [{'sentences': [0], 'label': 'ACCURA...       [73020]   \n",
       "1146  {'63000': [{'sentences': [0], 'label': 'NOT_AC...       [63000]   \n",
       "1671  {'18028': [{'sentences': [0], 'label': 'ACCURA...       [18028]   \n",
       "2253  {'40013': [{'sentences': [0], 'label': 'ACCURA...       [40013]   \n",
       "2372  {'27017': [{'sentences': [0], 'label': 'NOT_AC...       [27017]   \n",
       "2764  {'25015': [{'sentences': [0], 'label': 'ACCURA...       [25015]   \n",
       "\n",
       "      claim_length  \n",
       "611              4  \n",
       "1146             4  \n",
       "1671             5  \n",
       "2253             5  \n",
       "2372             3  \n",
       "2764             5  "
      ]
     },
     "execution_count": 8,
     "metadata": {},
     "output_type": "execute_result"
    }
   ],
   "source": [
    "citint[citint['claim_length'] <= 5]"
   ]
  },
  {
   "cell_type": "markdown",
   "id": "0567a386-4a05-4134-81ee-5ad58fa615c1",
   "metadata": {},
   "source": [
    "**Results**\n",
    "- The claims in each fold have comparable median lengths (29-31 words).\n",
    "- A few claims are very short (less than 6 words, including the citation marker).\n",
    "\n",
    "**Action**\n",
    "- The short claims are incomplete or unspecific statements that should be considered for removal."
   ]
  },
  {
   "cell_type": "markdown",
   "id": "c77a16a6-8bc2-43d9-975c-1c3a0e3b8ca0",
   "metadata": {},
   "source": [
    "## Class (label) distribution\n",
    "\n",
    "The `evidence` column contains dictionaries with a key to the evidence text in the corpus, followed by the index of the evidence sentence and the label.\n",
    "Let's take a look:"
   ]
  },
  {
   "cell_type": "code",
   "execution_count": 9,
   "id": "71163ea1-4f5b-4ccb-9582-6e0891e7267c",
   "metadata": {},
   "outputs": [
    {
     "data": {
      "text/plain": [
       "0    {'66000': [{'sentences': [0], 'label': 'ACCURA...\n",
       "1    {'66001': [{'sentences': [0], 'label': 'ACCURA...\n",
       "2    {'66002': [{'sentences': [0], 'label': 'ACCURA...\n",
       "3    {'66003': [{'sentences': [0], 'label': 'ACCURA...\n",
       "4    {'66004': [{'sentences': [0], 'label': 'ACCURA...\n",
       "Name: evidence, dtype: object"
      ]
     },
     "execution_count": 9,
     "metadata": {},
     "output_type": "execute_result"
    }
   ],
   "source": [
    "citint['evidence'].head()"
   ]
  },
  {
   "cell_type": "markdown",
   "id": "ed4cc7d7-86d1-4868-b709-66c97d0fd471",
   "metadata": {},
   "source": [
    "To get the sentence indices and labels, use list comprehension to index into each of the dictionaries in the `evidence` column.\n",
    "We handle empty evidence by using a conditional expression in the list comprehension.\n",
    "Empty evidence is treated as `NEI` (Not Enough Information).\n",
    "Then, count the distribution of labels in each fold and calculate percentages."
   ]
  },
  {
   "cell_type": "code",
   "execution_count": 10,
   "id": "1420c96d-df98-44d3-8327-1477b52258a6",
   "metadata": {},
   "outputs": [
    {
     "name": "stdout",
     "output_type": "stream",
     "text": [
      "label  ACCURATE  NEI  NOT_ACCURATE\n",
      "fold                              \n",
      "dev         191   24           101\n",
      "test        386   50           170\n",
      "train      1366  143           629\n",
      "label  ACCURATE  NEI  NOT_ACCURATE\n",
      "fold                              \n",
      "dev        60.0  8.0          32.0\n",
      "test       64.0  8.0          28.0\n",
      "train      64.0  7.0          29.0\n"
     ]
    }
   ],
   "source": [
    "sentences = [list(x.values())[0][0]['sentences'] if not x == {} else None for x in citint['evidence']]\n",
    "label = [list(x.values())[0][0]['label'] if not x == {} else 'NEI' for x in citint['evidence']]\n",
    "citint['sentences'] = sentences\n",
    "citint['label'] = label\n",
    "label_counts = citint.groupby(['fold', 'label']).size().unstack()\n",
    "label_sum = label_counts.sum(axis=1)\n",
    "label_percentage = label_counts.div(label_sum, axis=0) * 100\n",
    "print(label_counts)\n",
    "print(label_percentage.round())"
   ]
  },
  {
   "cell_type": "markdown",
   "id": "70dc3437-efae-4363-822a-892c9cdc034b",
   "metadata": {},
   "source": [
    "Finally, look at the values for all sentence indices."
   ]
  },
  {
   "cell_type": "code",
   "execution_count": 11,
   "id": "a90e7a13-efa8-45b4-9ffc-019af29a2e63",
   "metadata": {},
   "outputs": [
    {
     "data": {
      "text/plain": [
       "sentences\n",
       "[0]     2843\n",
       "None     217\n",
       "Name: count, dtype: int64"
      ]
     },
     "execution_count": 11,
     "metadata": {},
     "output_type": "execute_result"
    }
   ],
   "source": [
    "citint['sentences'].value_counts(dropna=False)"
   ]
  },
  {
   "cell_type": "markdown",
   "id": "4f77573c-2af1-45db-b293-fc725cb8b3d9",
   "metadata": {},
   "source": [
    "**Results**\n",
    "- The dataset exhibits class imbalance:\n",
    "    - `ACCURATE` is approximately twice as frequent as `NOT_ACCURATE`.\n",
    "    - Less than 10% of labels are `NEI`.\n",
    "- The folds are comparable in terms of class imbalance.\n",
    "- Only the first sentence index is listed for each claim with evidence.\n",
    "\n",
    "**Action**\n",
    "- Model training should be adjusted for class imbalance.\n",
    "- The model code should be checked for correct handling of missing evidence statements (`NEI` labels).\n",
    "- Although only the first sentence is indexed, the code should be constructed to handle abstracts with more than one sentence."
   ]
  },
  {
   "cell_type": "markdown",
   "id": "5afa226b-968a-4047-ab00-777277ef80f7",
   "metadata": {},
   "source": [
    "## Checking that all claims have matching abstracts\n",
    "\n",
    "Let's read and take a look at the corpus of abstracts (i.e. evidence sentences for the claims)."
   ]
  },
  {
   "cell_type": "code",
   "execution_count": 12,
   "id": "0636c52c-e375-4a79-aea7-3b068713d7c0",
   "metadata": {},
   "outputs": [
    {
     "data": {
      "text/html": [
       "<div>\n",
       "<style scoped>\n",
       "    .dataframe tbody tr th:only-of-type {\n",
       "        vertical-align: middle;\n",
       "    }\n",
       "\n",
       "    .dataframe tbody tr th {\n",
       "        vertical-align: top;\n",
       "    }\n",
       "\n",
       "    .dataframe thead th {\n",
       "        text-align: right;\n",
       "    }\n",
       "</style>\n",
       "<table border=\"1\" class=\"dataframe\">\n",
       "  <thead>\n",
       "    <tr style=\"text-align: right;\">\n",
       "      <th></th>\n",
       "      <th>doc_id</th>\n",
       "      <th>title</th>\n",
       "      <th>abstract</th>\n",
       "    </tr>\n",
       "  </thead>\n",
       "  <tbody>\n",
       "    <tr>\n",
       "      <th>0</th>\n",
       "      <td>66000</td>\n",
       "      <td></td>\n",
       "      <td>[Accumulating evidence indicates that lncRNAs ...</td>\n",
       "    </tr>\n",
       "    <tr>\n",
       "      <th>1</th>\n",
       "      <td>66001</td>\n",
       "      <td></td>\n",
       "      <td>[We present evidence that loc285194 is a direc...</td>\n",
       "    </tr>\n",
       "    <tr>\n",
       "      <th>2</th>\n",
       "      <td>66002</td>\n",
       "      <td></td>\n",
       "      <td>[Finally, we demonstrate that loc285194 negati...</td>\n",
       "    </tr>\n",
       "    <tr>\n",
       "      <th>3</th>\n",
       "      <td>66003</td>\n",
       "      <td></td>\n",
       "      <td>[This miR-211-promoted cell growth was also se...</td>\n",
       "    </tr>\n",
       "    <tr>\n",
       "      <th>4</th>\n",
       "      <td>66004</td>\n",
       "      <td></td>\n",
       "      <td>[Moreover, a muscle-specific lncRNA, linc-MD1,...</td>\n",
       "    </tr>\n",
       "  </tbody>\n",
       "</table>\n",
       "</div>"
      ],
      "text/plain": [
       "   doc_id title                                           abstract\n",
       "0   66000        [Accumulating evidence indicates that lncRNAs ...\n",
       "1   66001        [We present evidence that loc285194 is a direc...\n",
       "2   66002        [Finally, we demonstrate that loc285194 negati...\n",
       "3   66003        [This miR-211-promoted cell growth was also se...\n",
       "4   66004        [Moreover, a muscle-specific lncRNA, linc-MD1,..."
      ]
     },
     "execution_count": 12,
     "metadata": {},
     "output_type": "execute_result"
    }
   ],
   "source": [
    "corpus = pd.read_json('../data/citint/corpus.jsonl', lines=True)\n",
    "corpus.head()"
   ]
  },
  {
   "cell_type": "markdown",
   "id": "ae2ab291-4b64-421f-a180-0816a60af85c",
   "metadata": {},
   "source": [
    "List claims that do not have matching abstracts."
   ]
  },
  {
   "cell_type": "code",
   "execution_count": 13,
   "id": "c0e75bca-7d15-41ca-a9a7-5c2b6d5d5a27",
   "metadata": {},
   "outputs": [
    {
     "name": "stdout",
     "output_type": "stream",
     "text": [
      "Out of 3060 claims the following do not have matching abstracts:\n"
     ]
    },
    {
     "data": {
      "text/html": [
       "<div>\n",
       "<style scoped>\n",
       "    .dataframe tbody tr th:only-of-type {\n",
       "        vertical-align: middle;\n",
       "    }\n",
       "\n",
       "    .dataframe tbody tr th {\n",
       "        vertical-align: top;\n",
       "    }\n",
       "\n",
       "    .dataframe thead th {\n",
       "        text-align: right;\n",
       "    }\n",
       "</style>\n",
       "<table border=\"1\" class=\"dataframe\">\n",
       "  <thead>\n",
       "    <tr style=\"text-align: right;\">\n",
       "      <th></th>\n",
       "      <th>fold</th>\n",
       "      <th>id</th>\n",
       "      <th>claim</th>\n",
       "      <th>evidence</th>\n",
       "      <th>cited_doc_ids</th>\n",
       "      <th>claim_length</th>\n",
       "      <th>sentences</th>\n",
       "      <th>label</th>\n",
       "    </tr>\n",
       "  </thead>\n",
       "  <tbody>\n",
       "  </tbody>\n",
       "</table>\n",
       "</div>"
      ],
      "text/plain": [
       "Empty DataFrame\n",
       "Columns: [fold, id, claim, evidence, cited_doc_ids, claim_length, sentences, label]\n",
       "Index: []"
      ]
     },
     "execution_count": 13,
     "metadata": {},
     "output_type": "execute_result"
    }
   ],
   "source": [
    "claim_has_abstract = citint['cited_doc_ids'].str[0].isin(corpus['doc_id'])\n",
    "print(\"Out of \"+str(len(citint))+\" claims the following do not have matching abstracts:\")\n",
    "citint[~claim_has_abstract]"
   ]
  },
  {
   "cell_type": "markdown",
   "id": "d3cb45d7-6ca1-421c-ace0-af87533887ac",
   "metadata": {},
   "source": [
    "List abstracts that do not have matching claims."
   ]
  },
  {
   "cell_type": "code",
   "execution_count": 14,
   "id": "69da4c02-35ad-49b3-868d-ef5669fed559",
   "metadata": {},
   "outputs": [
    {
     "name": "stdout",
     "output_type": "stream",
     "text": [
      "Out of 3063 abstracts the following do not have matching claims:\n"
     ]
    },
    {
     "data": {
      "text/html": [
       "<div>\n",
       "<style scoped>\n",
       "    .dataframe tbody tr th:only-of-type {\n",
       "        vertical-align: middle;\n",
       "    }\n",
       "\n",
       "    .dataframe tbody tr th {\n",
       "        vertical-align: top;\n",
       "    }\n",
       "\n",
       "    .dataframe thead th {\n",
       "        text-align: right;\n",
       "    }\n",
       "</style>\n",
       "<table border=\"1\" class=\"dataframe\">\n",
       "  <thead>\n",
       "    <tr style=\"text-align: right;\">\n",
       "      <th></th>\n",
       "      <th>doc_id</th>\n",
       "      <th>title</th>\n",
       "      <th>abstract</th>\n",
       "    </tr>\n",
       "  </thead>\n",
       "  <tbody>\n",
       "    <tr>\n",
       "      <th>624</th>\n",
       "      <td>44005</td>\n",
       "      <td></td>\n",
       "      <td>[]</td>\n",
       "    </tr>\n",
       "    <tr>\n",
       "      <th>756</th>\n",
       "      <td>76011</td>\n",
       "      <td></td>\n",
       "      <td>[]</td>\n",
       "    </tr>\n",
       "    <tr>\n",
       "      <th>1259</th>\n",
       "      <td>12013</td>\n",
       "      <td></td>\n",
       "      <td>[]</td>\n",
       "    </tr>\n",
       "  </tbody>\n",
       "</table>\n",
       "</div>"
      ],
      "text/plain": [
       "      doc_id title abstract\n",
       "624    44005             []\n",
       "756    76011             []\n",
       "1259   12013             []"
      ]
     },
     "execution_count": 14,
     "metadata": {},
     "output_type": "execute_result"
    }
   ],
   "source": [
    "abstract_has_claim = corpus['doc_id'].isin(citint['cited_doc_ids'].str[0])\n",
    "print(\"Out of \"+str(len(corpus))+\" abstracts the following do not have matching claims:\")\n",
    "corpus[~abstract_has_claim]"
   ]
  },
  {
   "cell_type": "markdown",
   "id": "b41bd5ae-b640-45f4-8206-4be18a4b2224",
   "metadata": {},
   "source": [
    "**Results**\n",
    "- Each claim has a matching abstract.\n",
    "- Three abstracts do not have matching claims, and these abstract also have no text.\n",
    "\n",
    "**Action**\n",
    "- No action is required for training the model, since the data for each claim is complete.\n",
    "- The abstracts with missing text may affect some outcomes of data exploration."
   ]
  }
 ],
 "metadata": {
  "kernelspec": {
   "display_name": "Python 3 (ipykernel)",
   "language": "python",
   "name": "python3"
  },
  "language_info": {
   "codemirror_mode": {
    "name": "ipython",
    "version": 3
   },
   "file_extension": ".py",
   "mimetype": "text/x-python",
   "name": "python",
   "nbconvert_exporter": "python",
   "pygments_lexer": "ipython3",
   "version": "3.12.8"
  }
 },
 "nbformat": 4,
 "nbformat_minor": 5
}
